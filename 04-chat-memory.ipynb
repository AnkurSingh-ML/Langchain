{
 "cells": [
  {
   "cell_type": "markdown",
   "id": "fe09f116",
   "metadata": {},
   "source": [
    "# Conversational Memory :\n",
    "> *Conversational Memoery* allows our chatbots and agents to remember precious interactions within a conversation. <br>\n",
    "\n",
    "Type of Conversational Memory\n",
    "1. Conversation Buffer Memory\n",
    "2. Conversation Buffer Window Memory\n",
    "3. Conversation Summary Memory\n",
    "4. Conversation Summary Buffer Memory"
   ]
  },
  {
   "cell_type": "markdown",
   "id": "c598bc75",
   "metadata": {
    "vscode": {
     "languageId": "plaintext"
    }
   },
   "source": [
    "## 1. Conversation Buffer Memory\n",
    "\n",
    "*ConversationBufferMemory* is the simplest form of conversational memory, it is literally just a place that we store messages, and then use to feed messages into our LLM. <br> <br> \n",
    "Let's start with LangChain's original ConversationBufferMemory object, we are setting return_messages=True to return the messages as a list of ChatMessage objects — unless using a non-chat model we would always set this to True as without it the messages are passed as a direct string which can lead to unexpected behavior from chat LLMs."
   ]
  },
  {
   "cell_type": "code",
   "execution_count": 1,
   "id": "3793617b",
   "metadata": {},
   "outputs": [
    {
     "name": "stderr",
     "output_type": "stream",
     "text": [
      "C:\\Users\\Ankur Singh\\AppData\\Local\\Temp\\ipykernel_11420\\1453153566.py:3: LangChainDeprecationWarning: Please see the migration guide at: https://python.langchain.com/docs/versions/migrating_memory/\n",
      "  memory = ConversationBufferMemory(return_messages= True)\n"
     ]
    }
   ],
   "source": [
    "from langchain.memory import ConversationBufferMemory\n",
    "\n",
    "memory = ConversationBufferMemory(return_messages= True)"
   ]
  },
  {
   "cell_type": "code",
   "execution_count": null,
   "id": "c3307039",
   "metadata": {},
   "outputs": [],
   "source": []
  }
 ],
 "metadata": {
  "kernelspec": {
   "display_name": "Langchain",
   "language": "python",
   "name": "python3"
  },
  "language_info": {
   "codemirror_mode": {
    "name": "ipython",
    "version": 3
   },
   "file_extension": ".py",
   "mimetype": "text/x-python",
   "name": "python",
   "nbconvert_exporter": "python",
   "pygments_lexer": "ipython3",
   "version": "3.12.7"
  }
 },
 "nbformat": 4,
 "nbformat_minor": 5
}
