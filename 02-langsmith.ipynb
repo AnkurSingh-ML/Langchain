{
 "cells": [
  {
   "cell_type": "markdown",
   "id": "91056371",
   "metadata": {},
   "source": [
    "# Langsmith Tutorial"
   ]
  },
  {
   "cell_type": "markdown",
   "id": "58194012",
   "metadata": {},
   "source": [
    "## Setting the Environment Variables"
   ]
  },
  {
   "cell_type": "code",
   "execution_count": 1,
   "id": "cda6ee81",
   "metadata": {},
   "outputs": [],
   "source": [
    "from dotenv import load_dotenv\n",
    "import os\n",
    "\n",
    "load_dotenv()\n",
    "\n",
    "os.environ[\"GROQ_API_KEY\"] = os.getenv(\"GROQ_API_KEY\")\n",
    "os.environ[\"LANGHAIN_API_KEY\"] = os.getenv(\"LANGCHAIN_API_KEY\")\n",
    "os.environ[\"LANGCHAIN_TRACING_V2\"] = \"true\"\n",
    "os.environ[\"LANGCHAIN_PROJECT\"] = \"Langchain Tutorial\""
   ]
  },
  {
   "cell_type": "code",
   "execution_count": 2,
   "id": "35d6cffb",
   "metadata": {},
   "outputs": [],
   "source": [
    "from langchain.chat_models import init_chat_model\n",
    "\n",
    "llm = init_chat_model(model=\"groq:groq-3.5-turbo\")"
   ]
  },
  {
   "cell_type": "markdown",
   "id": "edb87e82",
   "metadata": {},
   "source": [
    "## Tracing Non Langchain Code"
   ]
  },
  {
   "cell_type": "code",
   "execution_count": 6,
   "id": "e0aa3870",
   "metadata": {},
   "outputs": [],
   "source": [
    "from langsmith import traceable\n",
    "import random\n",
    "import time\n",
    "\n",
    "@traceable(name=\"Generate Random Number\")\n",
    "def generate_random_number():\n",
    "    return random.randint(1, 100)\n",
    "\n",
    "@traceable\n",
    "def generate_string_delay(input_string: str):\n",
    "    num = random.randint(1, 5)\n",
    "    time.sleep(num)\n",
    "    return f\"{input_string} {num} seconds.\"\n",
    "\n",
    "@traceable\n",
    "def random_error():\n",
    "    number = random.randint(0, 1)\n",
    "    if number == 0:\n",
    "        raise ValueError(\"Random error\")\n",
    "    else :\n",
    "        return \"No error\"\n"
   ]
  },
  {
   "cell_type": "code",
   "execution_count": 7,
   "id": "ba79a0a2",
   "metadata": {},
   "outputs": [
    {
     "name": "stderr",
     "output_type": "stream",
     "text": [
      "100%|██████████| 10/10 [00:27<00:00,  2.72s/it]\n"
     ]
    }
   ],
   "source": [
    "from tqdm import tqdm\n",
    "\n",
    "for _ in tqdm(range(10)):\n",
    "    generate_random_number()\n",
    "    generate_string_delay(\"Slept for\")\n",
    "    try:\n",
    "        random_error()\n",
    "    except ValueError as e:\n",
    "        pass\n"
   ]
  },
  {
   "cell_type": "code",
   "execution_count": null,
   "id": "42bb5dae",
   "metadata": {},
   "outputs": [],
   "source": []
  }
 ],
 "metadata": {
  "kernelspec": {
   "display_name": "Langchain",
   "language": "python",
   "name": "python3"
  },
  "language_info": {
   "codemirror_mode": {
    "name": "ipython",
    "version": 3
   },
   "file_extension": ".py",
   "mimetype": "text/x-python",
   "name": "python",
   "nbconvert_exporter": "python",
   "pygments_lexer": "ipython3",
   "version": "3.12.7"
  }
 },
 "nbformat": 4,
 "nbformat_minor": 5
}
